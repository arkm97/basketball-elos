{
 "cells": [
  {
   "cell_type": "markdown",
   "metadata": {},
   "source": [
    " **FINALE!**\n",
    "\n",
    "Consider the $\\texttt{NBA_DATAMINING.csv}$ dataset, which consists of statistics for thousands of NBA games from 2011 to Today. The goal of this assignment is to be able to predict the winner of any game with better than 50% accuracy [ we sincerely hope you can do better than flipping a coin ;) ]."
   ]
  },
  {
   "cell_type": "code",
   "execution_count": 1,
   "metadata": {
    "collapsed": true
   },
   "outputs": [],
   "source": [
    "YOUR_NAME_HERE = 'Andrew Madigan'"
   ]
  },
  {
   "cell_type": "markdown",
   "metadata": {},
   "source": [
    "The dataset consists of the following columns where $\\texttt{o:}$ corresponds to the the \"opponent\""
   ]
  },
  {
   "cell_type": "code",
   "execution_count": 313,
   "metadata": {
    "scrolled": true
   },
   "outputs": [
    {
     "name": "stdout",
     "output_type": "stream",
     "text": [
      "Index(['date', 'team', 'points', 'assists', 'biggest lead', 'blocks',\n",
      "       'defensive rebounds', 'fast break points', 'field goals attempted',\n",
      "       'field goals made', 'fouls', 'free throws attempted',\n",
      "       'free throws made', 'game number', 'lead changes', 'losses', 'margin',\n",
      "       'margin after the first', 'margin after the third',\n",
      "       'margin at the half', 'matchup losses', 'matchup wins',\n",
      "       'offensive rebounds', 'playoffs', 'points in the paint', 'rebounds',\n",
      "       'rest', 'site', 'site streak', 'steals', 'streak', 'team rebounds',\n",
      "       'three pointers attempted', 'three pointers made', 'times tied',\n",
      "       'total', 'turnovers', 'wins', 'o:team', 'o:points', 'o:assists',\n",
      "       'o:biggest lead', 'o:blocks', 'o:defensive rebounds',\n",
      "       'o:fast break points', 'o:field goals attempted', 'o:field goals made',\n",
      "       'o:fouls', 'o:free throws attempted', 'o:free throws made', 'o:losses',\n",
      "       'margin.1', 'o:margin after the first', 'o:margin after the third',\n",
      "       'o:margin at the half', 'o:matchup losses', 'o:matchup wins',\n",
      "       'o:offensive rebounds', 'o:points in the paint', 'o:rebounds', 'o:rest',\n",
      "       'o:site', 'o:site streak', 'o:steals', 'o:streak', 'o:team rebounds',\n",
      "       'o:three pointers attempted', 'o:three pointers made', 'o:turnovers',\n",
      "       'o:wins', 'season'],\n",
      "      dtype='object')\n"
     ]
    }
   ],
   "source": [
    "import pandas as pd\n",
    "import numpy as np\n",
    "import matplotlib.pyplot as plt\n",
    "data = pd.read_csv('NBA_DATAMINING.csv')\n",
    "print(data.columns)"
   ]
  },
  {
   "cell_type": "code",
   "execution_count": 314,
   "metadata": {},
   "outputs": [
    {
     "data": {
      "text/html": [
       "<div>\n",
       "<style>\n",
       "    .dataframe thead tr:only-child th {\n",
       "        text-align: right;\n",
       "    }\n",
       "\n",
       "    .dataframe thead th {\n",
       "        text-align: left;\n",
       "    }\n",
       "\n",
       "    .dataframe tbody tr th {\n",
       "        vertical-align: top;\n",
       "    }\n",
       "</style>\n",
       "<table border=\"1\" class=\"dataframe\">\n",
       "  <thead>\n",
       "    <tr style=\"text-align: right;\">\n",
       "      <th></th>\n",
       "      <th>date</th>\n",
       "      <th>team</th>\n",
       "      <th>points</th>\n",
       "      <th>assists</th>\n",
       "      <th>biggest lead</th>\n",
       "      <th>blocks</th>\n",
       "      <th>defensive rebounds</th>\n",
       "      <th>fast break points</th>\n",
       "      <th>field goals attempted</th>\n",
       "      <th>field goals made</th>\n",
       "      <th>...</th>\n",
       "      <th>o:site</th>\n",
       "      <th>o:site streak</th>\n",
       "      <th>o:steals</th>\n",
       "      <th>o:streak</th>\n",
       "      <th>o:team rebounds</th>\n",
       "      <th>o:three pointers attempted</th>\n",
       "      <th>o:three pointers made</th>\n",
       "      <th>o:turnovers</th>\n",
       "      <th>o:wins</th>\n",
       "      <th>season</th>\n",
       "    </tr>\n",
       "  </thead>\n",
       "  <tbody>\n",
       "    <tr>\n",
       "      <th>0</th>\n",
       "      <td>20091115</td>\n",
       "      <td>Lakers</td>\n",
       "      <td>91</td>\n",
       "      <td>23</td>\n",
       "      <td>14</td>\n",
       "      <td>10</td>\n",
       "      <td>32</td>\n",
       "      <td>18</td>\n",
       "      <td>84</td>\n",
       "      <td>32</td>\n",
       "      <td>...</td>\n",
       "      <td>away</td>\n",
       "      <td>-1</td>\n",
       "      <td>9</td>\n",
       "      <td>-1</td>\n",
       "      <td>8</td>\n",
       "      <td>32</td>\n",
       "      <td>9</td>\n",
       "      <td>19</td>\n",
       "      <td>5</td>\n",
       "      <td>2009</td>\n",
       "    </tr>\n",
       "    <tr>\n",
       "      <th>1</th>\n",
       "      <td>20091115</td>\n",
       "      <td>Pistons</td>\n",
       "      <td>90</td>\n",
       "      <td>12</td>\n",
       "      <td>7</td>\n",
       "      <td>6</td>\n",
       "      <td>32</td>\n",
       "      <td>6</td>\n",
       "      <td>83</td>\n",
       "      <td>38</td>\n",
       "      <td>...</td>\n",
       "      <td>away</td>\n",
       "      <td>-2</td>\n",
       "      <td>11</td>\n",
       "      <td>1</td>\n",
       "      <td>7</td>\n",
       "      <td>16</td>\n",
       "      <td>7</td>\n",
       "      <td>7</td>\n",
       "      <td>6</td>\n",
       "      <td>2009</td>\n",
       "    </tr>\n",
       "    <tr>\n",
       "      <th>2</th>\n",
       "      <td>20091115</td>\n",
       "      <td>Suns</td>\n",
       "      <td>101</td>\n",
       "      <td>18</td>\n",
       "      <td>7</td>\n",
       "      <td>4</td>\n",
       "      <td>34</td>\n",
       "      <td>10</td>\n",
       "      <td>78</td>\n",
       "      <td>35</td>\n",
       "      <td>...</td>\n",
       "      <td>away</td>\n",
       "      <td>-1</td>\n",
       "      <td>6</td>\n",
       "      <td>2</td>\n",
       "      <td>5</td>\n",
       "      <td>24</td>\n",
       "      <td>9</td>\n",
       "      <td>11</td>\n",
       "      <td>5</td>\n",
       "      <td>2009</td>\n",
       "    </tr>\n",
       "    <tr>\n",
       "      <th>3</th>\n",
       "      <td>20091115</td>\n",
       "      <td>Thunder</td>\n",
       "      <td>93</td>\n",
       "      <td>13</td>\n",
       "      <td>3</td>\n",
       "      <td>1</td>\n",
       "      <td>30</td>\n",
       "      <td>10</td>\n",
       "      <td>85</td>\n",
       "      <td>33</td>\n",
       "      <td>...</td>\n",
       "      <td>away</td>\n",
       "      <td>4</td>\n",
       "      <td>9</td>\n",
       "      <td>-3</td>\n",
       "      <td>9</td>\n",
       "      <td>17</td>\n",
       "      <td>5</td>\n",
       "      <td>12</td>\n",
       "      <td>3</td>\n",
       "      <td>2009</td>\n",
       "    </tr>\n",
       "    <tr>\n",
       "      <th>4</th>\n",
       "      <td>20091116</td>\n",
       "      <td>Bucks</td>\n",
       "      <td>113</td>\n",
       "      <td>26</td>\n",
       "      <td>2</td>\n",
       "      <td>4</td>\n",
       "      <td>33</td>\n",
       "      <td>18</td>\n",
       "      <td>99</td>\n",
       "      <td>44</td>\n",
       "      <td>...</td>\n",
       "      <td>away</td>\n",
       "      <td>-3</td>\n",
       "      <td>5</td>\n",
       "      <td>2</td>\n",
       "      <td>7</td>\n",
       "      <td>20</td>\n",
       "      <td>10</td>\n",
       "      <td>15</td>\n",
       "      <td>7</td>\n",
       "      <td>2009</td>\n",
       "    </tr>\n",
       "  </tbody>\n",
       "</table>\n",
       "<p>5 rows × 71 columns</p>\n",
       "</div>"
      ],
      "text/plain": [
       "       date     team  points  assists  biggest lead  blocks  \\\n",
       "0  20091115   Lakers      91       23            14      10   \n",
       "1  20091115  Pistons      90       12             7       6   \n",
       "2  20091115     Suns     101       18             7       4   \n",
       "3  20091115  Thunder      93       13             3       1   \n",
       "4  20091116    Bucks     113       26             2       4   \n",
       "\n",
       "   defensive rebounds  fast break points  field goals attempted  \\\n",
       "0                  32                 18                     84   \n",
       "1                  32                  6                     83   \n",
       "2                  34                 10                     78   \n",
       "3                  30                 10                     85   \n",
       "4                  33                 18                     99   \n",
       "\n",
       "   field goals made   ...    o:site  o:site streak  o:steals  o:streak  \\\n",
       "0                32   ...      away             -1         9        -1   \n",
       "1                38   ...      away             -2        11         1   \n",
       "2                35   ...      away             -1         6         2   \n",
       "3                33   ...      away              4         9        -3   \n",
       "4                44   ...      away             -3         5         2   \n",
       "\n",
       "   o:team rebounds  o:three pointers attempted  o:three pointers made  \\\n",
       "0                8                          32                      9   \n",
       "1                7                          16                      7   \n",
       "2                5                          24                      9   \n",
       "3                9                          17                      5   \n",
       "4                7                          20                     10   \n",
       "\n",
       "   o:turnovers  o:wins  season  \n",
       "0           19       5    2009  \n",
       "1            7       6    2009  \n",
       "2           11       5    2009  \n",
       "3           12       3    2009  \n",
       "4           15       7    2009  \n",
       "\n",
       "[5 rows x 71 columns]"
      ]
     },
     "execution_count": 314,
     "metadata": {},
     "output_type": "execute_result"
    }
   ],
   "source": [
    "data.head()"
   ]
  },
  {
   "cell_type": "markdown",
   "metadata": {},
   "source": [
    "So each row above is a game with the statistics from the outcome of that game."
   ]
  },
  {
   "cell_type": "markdown",
   "metadata": {},
   "source": [
    "In order to predict the winner of any given game, you are $\\texttt{NOT}$ allowed to use any data that you would not have in real life prior to the start of a game!!!!! \n",
    "\n",
    "ie: $\\texttt{points, assists, biggest lead, etc...}$ from the CURRENT GAME/ROW are not allowed as predictors... Only data from PREVIOUS games! That means we're going to have to move some data around...  (this will mostly happen in build_data())\n",
    "\n",
    "Remember we're trying to emulate real life here, so you cant use data from the future!"
   ]
  },
  {
   "cell_type": "markdown",
   "metadata": {},
   "source": [
    " \n",
    " \n",
    " \n",
    " \n",
    " "
   ]
  },
  {
   "cell_type": "markdown",
   "metadata": {},
   "source": [
    " \n",
    " \n",
    " ** Setting up your data **\n",
    " \n",
    " SEASONS $\\texttt{2011-2016}$ will be used for Training and the $\\texttt{2017}$ year will be used for Testing, however this is already done for you. You'll just need to make one big 2D matrix of \n",
    " \n",
    "    data samples (games) x predictors\n",
    "\n",
    "and a 1D array of \n",
    "\n",
    "    Targets"
   ]
  },
  {
   "cell_type": "markdown",
   "metadata": {},
   "source": [
    "To begin, lets set up a dictionary where each $\\texttt{team}$ is a key in the dictionary where you'll keep track of the performance of each $\\texttt{team}$ in each $\\texttt{season}$.\n"
   ]
  },
  {
   "cell_type": "code",
   "execution_count": 391,
   "metadata": {},
   "outputs": [
    {
     "name": "stdout",
     "output_type": "stream",
     "text": [
      "['wins', 'o:wins', 'win_ratio', 'o:win_ratio', 'points', 'o:points', 'points last 10', 'o:points last 10', 'assists', 'o:assists', 'turnovers', 'o:turnovers', 'streak', 'o:streak', 'offensive rebounds', 'o:offensive rebounds']\n"
     ]
    }
   ],
   "source": [
    "#lets just start with a few predictors (you could simply use all of them!!)\n",
    "predictors = []\n",
    "# data.columns.values.tolist()\n",
    "# ['wins','o:wins',              \n",
    "#               'points','o:points',\n",
    "#               'assists','o:assists',\n",
    "#               'turnovers','o:turnovers',\n",
    "#               'elo',\n",
    "#               ]\n",
    "included_predictors = ['wins','o:wins',\n",
    "                       'win_ratio','o:win_ratio',\n",
    "                       'points','o:points',\n",
    "                       'points last 10','o:points last 10',\n",
    "                       'assists','o:assists',\n",
    "                       'turnovers','o:turnovers',\n",
    "                       'streak','o:streak',\n",
    "                       'offensive rebounds','o:offensive rebounds']\n",
    "for predictor in included_predictors:\n",
    "    predictors.append(predictor)\n",
    "\n",
    "print(predictors)"
   ]
  },
  {
   "cell_type": "code",
   "execution_count": 392,
   "metadata": {},
   "outputs": [
    {
     "name": "stdout",
     "output_type": "stream",
     "text": [
      "SEASONS dict_keys([2009, 2010, 2011, 2012, 2013, 2014, 2015, 2016, 2017])\n",
      "\n",
      "TEAMS dict_keys(['Bucks', 'Bulls', 'Cavaliers', 'Celtics', 'Clippers', 'Grizzlies', 'Hawks', 'Heat', 'Hornets', 'Jazz', 'Kings', 'Knicks', 'Lakers', 'Magic', 'Mavericks', 'Nets', 'Nuggets', 'Pacers', 'Pelicans', 'Pistons', 'Raptors', 'Rockets', 'Seventysixers', 'Spurs', 'Suns', 'Thunder', 'Timberwolves', 'Trailblazers', 'Warriors', 'Wizards'])\n"
     ]
    }
   ],
   "source": [
    "# THERE IS NOTHING FOR YOU TO CODE IN THIS CELL, I've written it for you to get you started.\n",
    "\n",
    "team_season_stats = {}\n",
    "\n",
    "for season in np.unique(data['season']): #creating a dictionary for each season\n",
    "    team_season_stats[season] = {} \n",
    "    \n",
    "    for team in np.unique(data['team']): #creating a dictionary for each team\n",
    "        team_season_stats[season][team] = {} #THIS IS GOING TO CONTAIN THE NAMES OF YOUR PREDICTORS!\n",
    "        \n",
    "        for predictor in predictors:\n",
    "            #FOR EACH PREDICTOR, this is where we're going to keep track of the data from previous games by \n",
    "            #appending to these lists\n",
    "            team_season_stats[season][team][predictor] = [] \n",
    "\n",
    "          \n",
    "            \n",
    "print('SEASONS',team_season_stats.keys())\n",
    "print()\n",
    "print('TEAMS',team_season_stats[2011].keys())"
   ]
  },
  {
   "cell_type": "markdown",
   "metadata": {},
   "source": [
    "We also need to add a column to determine who won the game (TARGET). Currently we just have the scores of each team"
   ]
  },
  {
   "cell_type": "code",
   "execution_count": 438,
   "metadata": {},
   "outputs": [
    {
     "name": "stdout",
     "output_type": "stream",
     "text": [
      "0    0\n",
      "1    0\n",
      "2    1\n",
      "3    0\n",
      "4    0\n",
      "Name: won, dtype: int64\n",
      "0    0.700000\n",
      "1    0.500000\n",
      "2    0.727273\n",
      "3    0.500000\n",
      "4    0.625000\n",
      "Name: win_ratio, dtype: float64\n",
      "0           0\n",
      "1           0\n",
      "2           0\n",
      "3           0\n",
      "4           0\n",
      "5           0\n",
      "6           0\n",
      "7           0\n",
      "8           0\n",
      "9           0\n",
      "10        904\n",
      "11        901\n",
      "12        906\n",
      "13        896\n",
      "14        913\n",
      "15        919\n",
      "16        921\n",
      "17        916\n",
      "18        935\n",
      "19        930\n",
      "20        947\n",
      "21        949\n",
      "22        965\n",
      "23        938\n",
      "24        919\n",
      "25        904\n",
      "26        882\n",
      "27        884\n",
      "28        889\n",
      "29        893\n",
      "         ... \n",
      "11166    1005\n",
      "11167    1002\n",
      "11168    1009\n",
      "11169    1007\n",
      "11170     993\n",
      "11171     973\n",
      "11172     960\n",
      "11173     939\n",
      "11174     936\n",
      "11175     927\n",
      "11176     913\n",
      "11177     902\n",
      "11178     915\n",
      "11179     926\n",
      "11180     945\n",
      "11181     951\n",
      "11182     939\n",
      "11183     918\n",
      "11184     943\n",
      "11185     932\n",
      "11186     932\n",
      "11187     929\n",
      "11188     916\n",
      "11189     913\n",
      "11190     910\n",
      "11191     914\n",
      "11192     943\n",
      "11193     960\n",
      "11194    1010\n",
      "11195    1024\n",
      "Name: points last 10, Length: 11196, dtype: int64\n"
     ]
    }
   ],
   "source": [
    "def make_win01_column(data):\n",
    "    #your code here. return a column of zero's and one's\n",
    "    #corresponding to if team beats o:team\n",
    "        \n",
    "    win01 = [1 if data['points'][i] > data['o:points'][i] else 0 for i in range(len(data))]\n",
    "    \n",
    "    return win01\n",
    "\n",
    "data['won'] = make_win01_column(data)\n",
    "data['o:won'] = abs(data['won']-1)\n",
    "print(data['won'].head())\n",
    "\n",
    "#make win ratio column:\n",
    "data['win_ratio'] = [data['wins'][i]/(data['game number'][i]) for i in range(len(data))]\n",
    "data['o:win_ratio'] = [data['o:wins'][i]/(data['game number'][i]) for i in range(len(data))] \n",
    "print(data['win_ratio'].head())\n",
    "\n",
    "#make points per game last 10 games column:\n",
    "points_last_10 = []\n",
    "for i in range(len(data)):\n",
    "    if i <= 9: \n",
    "        points_last_10.append(0)\n",
    "    else:\n",
    "        data_range = data['points'][i-9:i]\n",
    "        points = np.sum(data_range)\n",
    "        points_last_10.append(points)\n",
    "data['points last 10'] = points_last_10\n",
    "o_points_last_10 = []\n",
    "for i in range(len(data)):\n",
    "    if i <= 9: \n",
    "        o_points_last_10.append(0)\n",
    "    else:\n",
    "        data_range = data['o:points'][i-9:i]\n",
    "        points = np.sum(data_range)\n",
    "        o_points_last_10.append(points)\n",
    "data['o:points last 10'] = o_points_last_10\n",
    "print(data['points last 10'])\n"
   ]
  },
  {
   "cell_type": "code",
   "execution_count": 439,
   "metadata": {
    "collapsed": true
   },
   "outputs": [],
   "source": [
    "def update_stats(season, team, stats):\n",
    "    # HELPER FUNCTION TO KEEP THE STATS OF EACH TEAM UP TO DATE\n",
    "    \n",
    "    # For each game (for each row in .csv) \n",
    "    # we need to know how well the competing teams have been doing in previous games.\n",
    "    \n",
    "    # I would suggest that you do not keep the stats from season 2011 when you attempt to predict 2016...\n",
    "    # maybe only keep the stats from the last 20 games... or do something fancy... this choice is up to you\n",
    "    \n",
    "    # THIS IS WHERE YOU FILL IN team_season_stats[season][team][predictor]\n",
    "    \n",
    "    # Does not return anything\n",
    "\n",
    "    #>>>>>> I did this in the build_data function because it was simpler to do it there\n",
    "\n",
    "    return\n"
   ]
  },
  {
   "cell_type": "code",
   "execution_count": 440,
   "metadata": {},
   "outputs": [],
   "source": [
    "def get_predictors_for_team(season,team,predictorname):\n",
    "    # HELPER FUNCTION TO GRAB A THE PREDICTOR \n",
    "    # FROM THE DICTIONARY\n",
    "    \n",
    "    #Not essential if you want to skip this.\n",
    "    #one of the main reasons you would use this\n",
    "    #helper function is if you want to do any \n",
    "    #computations on your predictors first, \n",
    "    #like for example, taking the average number of \n",
    "    #points scored over the last 10 games...\n",
    "    \n",
    "\n",
    "    #for given predictors\n",
    "    predictor = team_season_stats[season][team][predictorname]\n",
    "    \n",
    "    try: len(predictor)\n",
    "    except: return predictor\n",
    "    if len(predictor) == 0:\n",
    "        return \n",
    "    else:\n",
    "        return predictor[-1]\n"
   ]
  },
  {
   "cell_type": "code",
   "execution_count": 441,
   "metadata": {},
   "outputs": [],
   "source": [
    "\n",
    "def elo(R1, R2, S):\n",
    "    \n",
    "    #set k factor:\n",
    "    k = 20.;\n",
    "    \n",
    "    #transformed ratings:\n",
    "    r1 = np.power(10, (R1/400.))\n",
    "    r2 = np.power(10, (R2/400.))\n",
    "    \n",
    "    #expected scores:\n",
    "    e1 = r1 / (r1 + r2)\n",
    "    e2 = r2 / (r1 + r2)\n",
    "    \n",
    "    #set s1, s2 based on outcome:\n",
    "    s1 = int(S==1)\n",
    "    s2 = int(S!=1)\n",
    "    \n",
    "    #updated elo ratings\n",
    "    new_R1 = R1 + k * (s1 - e1)\n",
    "    new_R2 = R2 + k * (s2 - e2)\n",
    "\n",
    "    \n",
    "    return new_R1, new_R2"
   ]
  },
  {
   "cell_type": "markdown",
   "metadata": {},
   "source": [
    " ** Build your data vectors **\n",
    " \n",
    " Below we will build $\\texttt{X, y}$ which are our data/predictors and targets.\n",
    " \n",
    "     If we have N rows in the .csv file (corresponding to N games)\n",
    " \n",
    "     X shape is (N, N_predictors) # the predictors for each game\n",
    " \n",
    "     y shape is (N) # zeros and ones corresponding to wins and losses"
   ]
  },
  {
   "cell_type": "code",
   "execution_count": 442,
   "metadata": {
    "collapsed": true
   },
   "outputs": [],
   "source": [
    "#just for fun I want to see how elo changes over each season\n",
    "elo_over_time = {}\n",
    "for s in np.unique(data['season']): \n",
    "    elo_over_time[s] = {} \n",
    "    for t in np.unique(data['team']): \n",
    "        elo_over_time[s][t] = []"
   ]
  },
  {
   "cell_type": "code",
   "execution_count": 443,
   "metadata": {},
   "outputs": [],
   "source": [
    "def build_data(all_data):\n",
    "    # X and y WILL CONTAIN OUR DATAxPREDICTORS and TARGETS RESPECTIVELY\n",
    "    # X and y will eventually be fed into scikit learn \n",
    "    \n",
    "    # X is 2D (datasamples x predictors)\n",
    "    # y are the 1D target values (0 or 1 for win or loss, TARGETS)\n",
    "    \n",
    "    # return X, y, season - \"season\" correspond to the season in which each data sample falls. \n",
    "    # season should have the exact same dimensions as y\n",
    "    \n",
    "    X = []\n",
    "    y = []\n",
    "    season = []\n",
    "\n",
    "    \n",
    "    #initialize stats dictionary? I guess?\n",
    "    for s in np.unique(data['season']): \n",
    "        team_season_stats[s] = {} \n",
    "        for team in np.unique(data['team']): \n",
    "            team_season_stats[s][team] = {} \n",
    "            for predictor in predictors:\n",
    "                team_season_stats[s][team][predictor] = [] \n",
    "            team_season_stats[s][team]['elo'] = 1000\n",
    "\n",
    "    \n",
    "    for index, row in all_data.iterrows(): \n",
    "        \n",
    "        #split predictors for home and away teams\n",
    "        home_predictors = [i for i in predictors if i[:2] != 'o:' and i != 'elo']\n",
    "        away_predictors = [i for i in predictors if i[:2] == 'o:' and i != 'o:elo']\n",
    "        \n",
    "        #get predictors for each matchup.  predictors come from stats dictionary,\n",
    "        # which is updated AFTER each row is added to X, so there is no stolen 'future' data\n",
    "        new_team_data = [get_predictors_for_team(row['season'], row['team'], i) for i in home_predictors]\n",
    "        new_oteam_data = [get_predictors_for_team(row['season'], row['o:team'], i) for i in home_predictors]\n",
    "        new_team_data.append(team_season_stats[row['season']][row['team']]['elo'])\n",
    "        new_oteam_data.append(team_season_stats[row['season']][row['o:team']]['elo'])\n",
    "        \n",
    "        # some of the rows will not contain predictors.  don't use these\n",
    "        if (None not in new_team_data) and (None not in new_oteam_data): \n",
    "            X.append(new_team_data + new_oteam_data)\n",
    "            y.append(row['won'])\n",
    "            season.append(row['season'])\n",
    "        \n",
    "        #stats to be updated for home/away teams\n",
    "        home_stats = {}\n",
    "        for predictor in home_predictors:\n",
    "            home_stats[predictor] = row[predictor]\n",
    "\n",
    "        away_stats = {}\n",
    "        for predictor in away_predictors:\n",
    "            away_stats[predictor[2:]] = row[predictor]\n",
    "\n",
    "        #update stats for each team.  \n",
    "        #'o:team's stats count under its 'predictor' columns rather than under 'o:predictor'\n",
    "        for predictor in home_predictors:\n",
    "            team_season_stats[row['season']][row['team']][predictor].append(home_stats[predictor])\n",
    "        for predictor in home_predictors:\n",
    "            team_season_stats[row['season']][row['o:team']][predictor].append(home_stats[predictor])\n",
    "            \n",
    "        #update Elo scores\n",
    "        home_elo = team_season_stats[row['season']][row['team']]['elo']\n",
    "        away_elo = team_season_stats[row['season']][row['o:team']]['elo']\n",
    "        \n",
    "        new_elos = elo(home_elo, away_elo, row['won'])\n",
    "        \n",
    "        team_season_stats[row['season']][row['team']]['elo'] = new_elos[0]\n",
    "        team_season_stats[row['season']][row['o:team']]['elo'] = new_elos[1]\n",
    "        \n",
    "        #just for fun: update elo over time\n",
    "        elo_over_time[row['season']][row['team']].append(home_elo)\n",
    "        elo_over_time[row['season']][row['o:team']].append(away_elo)\n",
    "        \n",
    "    X = np.vstack(X)\n",
    "    return X, y, season\n"
   ]
  },
  {
   "cell_type": "code",
   "execution_count": 444,
   "metadata": {
    "scrolled": false
   },
   "outputs": [
    {
     "name": "stdout",
     "output_type": "stream",
     "text": [
      "time to build data: 14.16175889968872\n"
     ]
    }
   ],
   "source": [
    "import time\n",
    "t1 = time.time()\n",
    "X, y, season = build_data(data)\n",
    "t2 = time.time()\n",
    "print('time to build data:', t2-t1)"
   ]
  },
  {
   "cell_type": "code",
   "execution_count": 445,
   "metadata": {
    "scrolled": true
   },
   "outputs": [
    {
     "name": "stdout",
     "output_type": "stream",
     "text": [
      "(11033, 18)\n",
      "11033\n",
      "11033\n"
     ]
    },
    {
     "data": {
      "image/png": "[encoded data removed]",
      "text/plain": [
       "<matplotlib.figure.Figure at 0x1a17583780>"
      ]
     },
     "metadata": {},
     "output_type": "display_data"
    }
   ],
   "source": [
    "print(X.shape)\n",
    "print(len(y))\n",
    "print(len(season))\n",
    "for t in team_season_stats[2017].keys():\n",
    "    plt.plot(elo_over_time[2017][t], label=t)\n",
    "# plt.legend()\n",
    "# plt.savefig('elos_over_2016.pdf')\n",
    "plt.show()"
   ]
  },
  {
   "cell_type": "markdown",
   "metadata": {},
   "source": [
    " ** Fitting **\n",
    " \n",
    " now that we have filled our data, features and targets, we can feed this in to scikit learn logistic regression."
   ]
  },
  {
   "cell_type": "code",
   "execution_count": 446,
   "metadata": {},
   "outputs": [
    {
     "name": "stdout",
     "output_type": "stream",
     "text": [
      "Model done fitting!\n",
      "Logistic Regression Training Accuracy 0.663\n"
     ]
    }
   ],
   "source": [
    "from sklearn import linear_model\n",
    "from sklearn.ensemble import RandomForestClassifier\n",
    "from sklearn.datasets import make_classification\n",
    "\n",
    "# This is scikit learn log regression model. \n",
    "# We just need to feed it data and train!\n",
    "model = linear_model.LogisticRegression() \n",
    "# random_forest = RandomForestClassifier(n_estimators=100)\n",
    "\n",
    "season = np.array(season,dtype='int')\n",
    "\n",
    "# splitting up train and test data\n",
    "train = np.array(season) != 2017\n",
    "test = np.array(season) == 2017\n",
    "\n",
    "model.fit(np.array(X)[train], np.array(y)[train]) #This is the training.\n",
    "# random_forest.fit(np.array(X)[train], np.array(y)[train])\n",
    "\n",
    "print('Model done fitting!')\n",
    "print('Logistic Regression Training Accuracy %.3f'%(model.score(np.array(X)[train,:],np.array(y)[train])))\n",
    "# print('Random Forest Training Accuracy %.3f'%(random_forest.score(np.array(X)[train,:],np.array(y)[train])))\n",
    "# print(random_forest.feature_importances_)"
   ]
  },
  {
   "cell_type": "markdown",
   "metadata": {},
   "source": [
    " ** Results! **"
   ]
  },
  {
   "cell_type": "code",
   "execution_count": 447,
   "metadata": {},
   "outputs": [
    {
     "name": "stdout",
     "output_type": "stream",
     "text": [
      "2017 Season Test Accuracy (Logistic Regression) 0.650\n"
     ]
    }
   ],
   "source": [
    "print ('2017 Season Test Accuracy (Logistic Regression) %.3f'%(model.score(np.array(X)[test,:],np.array(y)[test])))\n",
    "# print ('2017 Season Test Accuracy (Random Forest) %.3f'%(random_forest.score(np.array(X)[test,:],np.array(y)[test])))"
   ]
  },
  {
   "cell_type": "code",
   "execution_count": null,
   "metadata": {
    "collapsed": true
   },
   "outputs": [],
   "source": []
  }
 ],
 "metadata": {
  "kernelspec": {
   "display_name": "Python 3",
   "language": "python",
   "name": "python3"
  },
  "language_info": {
   "codemirror_mode": {
    "name": "ipython",
    "version": 3
   },
   "file_extension": ".py",
   "mimetype": "text/x-python",
   "name": "python",
   "nbconvert_exporter": "python",
   "pygments_lexer": "ipython3",
   "version": "3.7.0"
  }
 },
 "nbformat": 4,
 "nbformat_minor": 2
}
